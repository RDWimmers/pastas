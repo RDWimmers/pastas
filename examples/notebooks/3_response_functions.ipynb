{
 "cells": [
  {
   "cell_type": "markdown",
   "metadata": {},
   "source": [
    "# Response functions\n",
    "In this notebook an overview is provided of the response function that are available in Pastas. The below table summarizes all the response functions that are tested and supported. Others may be available but are not yet fully supported.\n",
    "\n",
    "|Name | Parameters | Impulse response function | Description|\n",
    "|:--- | --- | ---  | --- |\n",
    "| FourParam |4 - A, n, a, b| $$ h(t) = At^{n-1} \\exp (-t/a -ab/t) $$ | Response function with four parameters that may be used for many purposes. Many other response function are a simplification of this function. |\n",
    "| Gamma |3 - A, a, n | $$ h(t) = At^{n-1} \\exp (-t/a) $$ | Three parameter versino of FourParam, used for all sorts of stresses ($b=0$) |\n",
    "| Exponential |2 - A, a | $$ h(t) = A \\exp (-t/a) $$ | Response function that can be used for stresses that have an (almost) instant effect. ($n=1$ and $b=0$)|\n",
    "| Hantush |3 - A, a, b |$$ h(t) = At^{-1} \\exp (-t/a - ab/t) $$ | Response function commonly used for groundwater abstraction wells ($n=0$) |\n",
    "| Polder |3 - a, b, c | $$ h(t) = At^{-3/2} \\exp (-t/a -b/t) $$ | Response function commonly used to simulate the effects of (river) water levels on the groundwater levels ($n=-1/2$) |\n",
    "| DoubleExponential |4 - A, $\\alpha$, a1,a2| $$ h(t) = A ((1 - \\alpha) \\exp (-t/a_1) +\\alpha \\exp (-t/a_2)) $$ | Response Function with a double exponential, simulating a fast and slow response. |\n",
    "| Edelman | 1 - $\\beta$ | | The function of Edelman, describing the propagation of an instantaneous water level change into an adjacent half-infinite aquifer. | \n",
    "| HantushWellModel | 3 - A, a, b| | A special implementation of the Hantush well function for multiple wells. |"
   ]
  },
  {
   "cell_type": "code",
   "execution_count": 1,
   "metadata": {
    "pycharm": {
     "is_executing": false
    }
   },
   "outputs": [
    {
     "name": "stdout",
     "output_type": "stream",
     "text": [
      "Python version: 3.7.6 | packaged by conda-forge | (default, Jun  1 2020, 18:33:30) \n",
      "[Clang 9.0.1 ]\n",
      "Numpy version: 1.18.5\n",
      "Scipy version: 1.4.0\n",
      "Pandas version: 1.0.5\n",
      "Pastas version: 0.15.0b\n"
     ]
    }
   ],
   "source": [
    "import matplotlib.pyplot as plt\n",
    "import pandas as pd\n",
    "\n",
    "import pastas as ps\n",
    "\n",
    "ps.show_versions()"
   ]
  },
  {
   "cell_type": "markdown",
   "metadata": {},
   "source": [
    "## Parameters\n",
    "**up** - This parameters determines whether the influence of the stress goes up or down, hence a positive or a negative response function.\n",
    "\n",
    "**meanstress** - This parameter is used to estimate the initial value of the stationary effect of a stress. Hence the effect when a stress stays at an unit level for infinite amount of time.\n",
    "\n",
    "**cutoff** - This parameter determines for how many time steps the response \n",
    "is calculated. This reduces calculation times as it reduces the length of the array the stress is convolved with. The default value is 0.99, meaning that the response is cutoff after 99% of the effect of the stress impulse has occurred. A minimum of length of three times the simulation time step is applied.\n",
    "\n",
    "\n"
   ]
  },
  {
   "cell_type": "code",
   "execution_count": 3,
   "metadata": {
    "pycharm": {
     "is_executing": false
    }
   },
   "outputs": [
    {
     "data": {
      "image/png": "[encoded data removed]",
      "text/plain": [
       "<Figure size 432x288 with 1 Axes>"
      ]
     },
     "metadata": {
      "needs_background": "light"
     },
     "output_type": "display_data"
    },
    {
     "data": {
      "text/html": [
       "<div>\n",
       "<style scoped>\n",
       "    .dataframe tbody tr th:only-of-type {\n",
       "        vertical-align: middle;\n",
       "    }\n",
       "\n",
       "    .dataframe tbody tr th {\n",
       "        vertical-align: top;\n",
       "    }\n",
       "\n",
       "    .dataframe thead th {\n",
       "        text-align: right;\n",
       "    }\n",
       "</style>\n",
       "<table border=\"1\" class=\"dataframe\">\n",
       "  <thead>\n",
       "    <tr style=\"text-align: right;\">\n",
       "      <th></th>\n",
       "      <th>initial</th>\n",
       "      <th>pmin</th>\n",
       "      <th>pmax</th>\n",
       "      <th>vary</th>\n",
       "      <th>name</th>\n",
       "    </tr>\n",
       "  </thead>\n",
       "  <tbody>\n",
       "    <tr>\n",
       "      <th>Exponential_A</th>\n",
       "      <td>1</td>\n",
       "      <td>1e-05</td>\n",
       "      <td>100</td>\n",
       "      <td>True</td>\n",
       "      <td>Exponential</td>\n",
       "    </tr>\n",
       "    <tr>\n",
       "      <th>Exponential_a</th>\n",
       "      <td>10</td>\n",
       "      <td>0.01</td>\n",
       "      <td>1000</td>\n",
       "      <td>True</td>\n",
       "      <td>Exponential</td>\n",
       "    </tr>\n",
       "    <tr>\n",
       "      <th>Gamma_A</th>\n",
       "      <td>1</td>\n",
       "      <td>1e-05</td>\n",
       "      <td>100</td>\n",
       "      <td>True</td>\n",
       "      <td>Gamma</td>\n",
       "    </tr>\n",
       "    <tr>\n",
       "      <th>Gamma_n</th>\n",
       "      <td>1</td>\n",
       "      <td>0.1</td>\n",
       "      <td>10</td>\n",
       "      <td>True</td>\n",
       "      <td>Gamma</td>\n",
       "    </tr>\n",
       "    <tr>\n",
       "      <th>Gamma_a</th>\n",
       "      <td>10</td>\n",
       "      <td>0.01</td>\n",
       "      <td>1000</td>\n",
       "      <td>True</td>\n",
       "      <td>Gamma</td>\n",
       "    </tr>\n",
       "    <tr>\n",
       "      <th>Hantush_A</th>\n",
       "      <td>1</td>\n",
       "      <td>0</td>\n",
       "      <td>100</td>\n",
       "      <td>True</td>\n",
       "      <td>Hantush</td>\n",
       "    </tr>\n",
       "    <tr>\n",
       "      <th>Hantush_a</th>\n",
       "      <td>100</td>\n",
       "      <td>0.001</td>\n",
       "      <td>10000</td>\n",
       "      <td>True</td>\n",
       "      <td>Hantush</td>\n",
       "    </tr>\n",
       "    <tr>\n",
       "      <th>Hantush_b</th>\n",
       "      <td>1</td>\n",
       "      <td>1e-06</td>\n",
       "      <td>25</td>\n",
       "      <td>True</td>\n",
       "      <td>Hantush</td>\n",
       "    </tr>\n",
       "    <tr>\n",
       "      <th>Polder_A</th>\n",
       "      <td>1</td>\n",
       "      <td>0</td>\n",
       "      <td>2</td>\n",
       "      <td>True</td>\n",
       "      <td>Polder</td>\n",
       "    </tr>\n",
       "    <tr>\n",
       "      <th>Polder_a</th>\n",
       "      <td>10</td>\n",
       "      <td>0.01</td>\n",
       "      <td>1000</td>\n",
       "      <td>True</td>\n",
       "      <td>Polder</td>\n",
       "    </tr>\n",
       "    <tr>\n",
       "      <th>Polder_b</th>\n",
       "      <td>1</td>\n",
       "      <td>1e-06</td>\n",
       "      <td>25</td>\n",
       "      <td>True</td>\n",
       "      <td>Polder</td>\n",
       "    </tr>\n",
       "    <tr>\n",
       "      <th>FourParam_A</th>\n",
       "      <td>1</td>\n",
       "      <td>0</td>\n",
       "      <td>100</td>\n",
       "      <td>True</td>\n",
       "      <td>FourParam</td>\n",
       "    </tr>\n",
       "    <tr>\n",
       "      <th>FourParam_n</th>\n",
       "      <td>1</td>\n",
       "      <td>-10</td>\n",
       "      <td>10</td>\n",
       "      <td>True</td>\n",
       "      <td>FourParam</td>\n",
       "    </tr>\n",
       "    <tr>\n",
       "      <th>FourParam_a</th>\n",
       "      <td>10</td>\n",
       "      <td>0.01</td>\n",
       "      <td>5000</td>\n",
       "      <td>True</td>\n",
       "      <td>FourParam</td>\n",
       "    </tr>\n",
       "    <tr>\n",
       "      <th>FourParam_b</th>\n",
       "      <td>10</td>\n",
       "      <td>1e-06</td>\n",
       "      <td>25</td>\n",
       "      <td>True</td>\n",
       "      <td>FourParam</td>\n",
       "    </tr>\n",
       "    <tr>\n",
       "      <th>DoubleExponential_A</th>\n",
       "      <td>1</td>\n",
       "      <td>0</td>\n",
       "      <td>100</td>\n",
       "      <td>True</td>\n",
       "      <td>DoubleExponential</td>\n",
       "    </tr>\n",
       "    <tr>\n",
       "      <th>DoubleExponential_alpha</th>\n",
       "      <td>0.1</td>\n",
       "      <td>0.01</td>\n",
       "      <td>0.99</td>\n",
       "      <td>True</td>\n",
       "      <td>DoubleExponential</td>\n",
       "    </tr>\n",
       "    <tr>\n",
       "      <th>DoubleExponential_a1</th>\n",
       "      <td>10</td>\n",
       "      <td>0.01</td>\n",
       "      <td>5000</td>\n",
       "      <td>True</td>\n",
       "      <td>DoubleExponential</td>\n",
       "    </tr>\n",
       "    <tr>\n",
       "      <th>DoubleExponential_a2</th>\n",
       "      <td>10</td>\n",
       "      <td>0.01</td>\n",
       "      <td>5000</td>\n",
       "      <td>True</td>\n",
       "      <td>DoubleExponential</td>\n",
       "    </tr>\n",
       "  </tbody>\n",
       "</table>\n",
       "</div>"
      ],
      "text/plain": [
       "                        initial   pmin   pmax  vary               name\n",
       "Exponential_A                 1  1e-05    100  True        Exponential\n",
       "Exponential_a                10   0.01   1000  True        Exponential\n",
       "Gamma_A                       1  1e-05    100  True              Gamma\n",
       "Gamma_n                       1    0.1     10  True              Gamma\n",
       "Gamma_a                      10   0.01   1000  True              Gamma\n",
       "Hantush_A                     1      0    100  True            Hantush\n",
       "Hantush_a                   100  0.001  10000  True            Hantush\n",
       "Hantush_b                     1  1e-06     25  True            Hantush\n",
       "Polder_A                      1      0      2  True             Polder\n",
       "Polder_a                     10   0.01   1000  True             Polder\n",
       "Polder_b                      1  1e-06     25  True             Polder\n",
       "FourParam_A                   1      0    100  True          FourParam\n",
       "FourParam_n                   1    -10     10  True          FourParam\n",
       "FourParam_a                  10   0.01   5000  True          FourParam\n",
       "FourParam_b                  10  1e-06     25  True          FourParam\n",
       "DoubleExponential_A           1      0    100  True  DoubleExponential\n",
       "DoubleExponential_alpha     0.1   0.01   0.99  True  DoubleExponential\n",
       "DoubleExponential_a1         10   0.01   5000  True  DoubleExponential\n",
       "DoubleExponential_a2         10   0.01   5000  True  DoubleExponential"
      ]
     },
     "execution_count": 3,
     "metadata": {},
     "output_type": "execute_result"
    }
   ],
   "source": [
    "# Exponential function\n",
    "responses = {}\n",
    "cutoff = 0.99 # \n",
    "meanstress = 1\n",
    "up = True\n",
    "\n",
    "Exp = ps.Exponential(up=up, meanstress=meanstress, cutoff=cutoff)\n",
    "responses[\"Exponential\"] = Exp\n",
    "\n",
    "Gamma = ps.Gamma(up=up, meanstress=meanstress, cutoff=cutoff)\n",
    "responses[\"Gamma\"] = Gamma\n",
    "\n",
    "Hantush = ps.Hantush(up=up, meanstress=meanstress, cutoff=cutoff)\n",
    "responses[\"Hantush\"] = Hantush\n",
    "\n",
    "Polder = ps.Polder(up=up, meanstress=meanstress, cutoff=cutoff)\n",
    "responses[\"Polder\"] = Polder\n",
    "\n",
    "FourParam = ps.FourParam(up=up, meanstress=meanstress, cutoff=cutoff)\n",
    "responses[\"FourParam\"] = FourParam\n",
    "\n",
    "DoubleExp = ps.DoubleExponential(up=up, meanstress=meanstress, cutoff=cutoff)\n",
    "responses[\"DoubleExponential\"] = DoubleExp\n",
    "\n",
    "parameters = pd.DataFrame()\n",
    "\n",
    "for name, response in responses.items():\n",
    "    p = response.get_init_parameters(name)\n",
    "    parameters = parameters.append(p)\n",
    "    plt.plot(response.step(p.initial), label=name)\n",
    "plt.title(\"Step responses for the different response function in Pastas\")\n",
    "plt.legend()\n",
    "plt.xlim(0,500)\n",
    "plt.show()\n"
   ]
  },
  {
   "cell_type": "markdown",
   "metadata": {
    "pycharm": {
     "name": "#%% md\n"
    }
   },
   "source": [
    "## Parameter settings\n",
    " \n"
   ]
  },
  {
   "cell_type": "code",
   "execution_count": null,
   "metadata": {
    "collapsed": false,
    "jupyter": {
     "outputs_hidden": false
    },
    "pycharm": {
     "name": "#%% \n"
    }
   },
   "outputs": [],
   "source": [
    "parameters\n",
    "\n",
    "\n"
   ]
  }
 ],
 "metadata": {
  "kernelspec": {
   "display_name": "Python 3",
   "language": "python",
   "name": "python3"
  },
  "language_info": {
   "codemirror_mode": {
    "name": "ipython",
    "version": 3
   },
   "file_extension": ".py",
   "mimetype": "text/x-python",
   "name": "python",
   "nbconvert_exporter": "python",
   "pygments_lexer": "ipython3",
   "version": "3.7.6"
  },
  "latex_envs": {
   "LaTeX_envs_menu_present": true,
   "autoclose": false,
   "autocomplete": true,
   "bibliofile": "biblio.bib",
   "cite_by": "apalike",
   "current_citInitial": 1,
   "eqLabelWithNumbers": true,
   "eqNumInitial": 1,
   "hotkeys": {
    "equation": "Ctrl-E",
    "itemize": "Ctrl-I"
   },
   "labels_anchors": false,
   "latex_user_defs": false,
   "report_style_numbering": false,
   "user_envs_cfg": false
  },
  "pycharm": {
   "stem_cell": {
    "cell_type": "raw",
    "metadata": {
     "collapsed": false
    },
    "source": []
   }
  }
 },
 "nbformat": 4,
 "nbformat_minor": 4
}
